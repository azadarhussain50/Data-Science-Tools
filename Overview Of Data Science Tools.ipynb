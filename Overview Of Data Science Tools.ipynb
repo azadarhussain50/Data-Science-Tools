{
 "cells": [
  {
   "cell_type": "markdown",
   "id": "28d2af5a-df5a-4d57-8fd5-bec8900a1575",
   "metadata": {},
   "source": [
    "# Data Science Tools\n"
   ]
  },
  {
   "cell_type": "markdown",
   "id": "2773c413-0426-4b04-8422-e7b6135e2e14",
   "metadata": {},
   "source": [
    "In this notebook, Data Science Tools are summarized.\n"
   ]
  },
  {
   "cell_type": "markdown",
   "id": "68f180c3-046e-4677-bee6-65038bf2b96c",
   "metadata": {},
   "source": [
    "Some of the popular languages that Data Scientists use are:\n",
    "1. Python\n",
    "2. R\n",
    "3. Julia\n"
   ]
  },
  {
   "cell_type": "markdown",
   "id": "05d77b14-6f1b-4b3d-a7b3-f72dc4bbb711",
   "metadata": {},
   "source": [
    "Some of the commonly used libraries used by Data Scientists include:\n",
    "1. NumPy\n",
    "2. pandas\n",
    "3. Matplotlib\n"
   ]
  },
  {
   "cell_type": "markdown",
   "id": "02de5433-3bd7-42da-a391-f846e8d427ed",
   "metadata": {},
   "source": [
    "| Data Science Tools |\n",
    "|--------------------|\n",
    "| Jupyter Notebook   |\n",
    "| RStudio            |\n",
    "| Anaconda           |\n"
   ]
  },
  {
   "cell_type": "markdown",
   "id": "3f0198c1-7e99-492b-8e0c-e5d8515902c2",
   "metadata": {},
   "source": [
    "### Below are a few examples of evaluating arithmetic expressions in Python.\n"
   ]
  },
  {
   "cell_type": "code",
   "execution_count": 4,
   "id": "bf33bcf4-c84a-4064-bb1c-86a5f97bea41",
   "metadata": {
    "tags": []
   },
   "outputs": [
    {
     "name": "stdout",
     "output_type": "stream",
     "text": [
      "17\n"
     ]
    }
   ],
   "source": [
    "# This is a simple arithmetic expression to multiply then add integers.\n",
    "result = (3 * 4) + 5\n",
    "print(result)\n"
   ]
  },
  {
   "cell_type": "code",
   "execution_count": 6,
   "id": "77751c8a-93d4-4039-a49e-3f18eeedaaf1",
   "metadata": {
    "tags": []
   },
   "outputs": [
    {
     "name": "stdout",
     "output_type": "stream",
     "text": [
      "30\n"
     ]
    }
   ],
   "source": [
    "# This is another example of an arithmetic expression: (10 + 5) * 2.\n",
    "result = (10 + 5) * 2\n",
    "print(result)\n"
   ]
  },
  {
   "cell_type": "code",
   "execution_count": 7,
   "id": "1766325c-74bb-4ebd-abaa-26958ed56e75",
   "metadata": {
    "tags": []
   },
   "outputs": [
    {
     "name": "stdout",
     "output_type": "stream",
     "text": [
      "3.3333333333333335\n"
     ]
    }
   ],
   "source": [
    "# This will convert 200 minutes to hours by dividing by 60.\n",
    "minutes = 200\n",
    "hours = minutes / 60\n",
    "print(hours)\n"
   ]
  },
  {
   "cell_type": "markdown",
   "id": "f6d3c7be-5435-48f5-8c10-0e0d7aa3bcda",
   "metadata": {},
   "source": [
    "**Objectives:**\n",
    "- List popular languages for Data Science.\n",
    "- Identify commonly used libraries in Data Science.\n",
    "- Provide an overview of Data Science tools.\n"
   ]
  },
  {
   "cell_type": "markdown",
   "id": "a059563c-c810-4d7a-ab4f-71c07a64538b",
   "metadata": {},
   "source": [
    "## Author\n",
    "Azadar Hussain\n"
   ]
  },
  {
   "cell_type": "code",
   "execution_count": null,
   "id": "f97fbb21-b919-43a3-a4ed-7e06a8ff184c",
   "metadata": {},
   "outputs": [],
   "source": []
  }
 ],
 "metadata": {
  "kernelspec": {
   "display_name": "Python",
   "language": "python",
   "name": "conda-env-python-py"
  },
  "language_info": {
   "codemirror_mode": {
    "name": "ipython",
    "version": 3
   },
   "file_extension": ".py",
   "mimetype": "text/x-python",
   "name": "python",
   "nbconvert_exporter": "python",
   "pygments_lexer": "ipython3",
   "version": "3.7.12"
  }
 },
 "nbformat": 4,
 "nbformat_minor": 5
}
